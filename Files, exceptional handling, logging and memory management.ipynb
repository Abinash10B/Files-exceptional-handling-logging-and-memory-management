{
 "cells": [
  {
   "cell_type": "markdown",
   "id": "9f0352cb-f516-4a7c-9dd9-965734b3790c",
   "metadata": {},
   "source": [
    "THEORY QUESTIONS:"
   ]
  },
  {
   "cell_type": "markdown",
   "id": "9588f2b4-c534-4ae4-a801-f53c72fb8651",
   "metadata": {},
   "source": [
    "1. What is the difference between interpreted and compiled languages?\n",
    "Ans->Interpreted languages (e.g., Python): Code is executed line by line by an interpreter at runtime.\n",
    "Compiled languages (e.g., C++): Code is translated into machine code using a compiler before execution."
   ]
  },
  {
   "cell_type": "markdown",
   "id": "ca088bc7-a278-4113-841c-ee8366d5d7e6",
   "metadata": {},
   "source": [
    "2. What is exception handling in Python?\n",
    "Ans->Exception handling is a mechanism to catch and manage runtime errors using try, except, finally, and else blocks to prevent program crashes."
   ]
  },
  {
   "cell_type": "markdown",
   "id": "7ac72659-95fc-4aa6-b036-38cba59cdd26",
   "metadata": {},
   "source": [
    "3. What is the purpose of the finally block in exception handling?\n",
    "Ans->The finally block always executes, regardless of whether an exception occurred. It is often used for cleanup actions like closing files or releasing resources."
   ]
  },
  {
   "cell_type": "markdown",
   "id": "8ffa698d-424f-4a81-b7f0-1578aa5cd6c5",
   "metadata": {},
   "source": [
    "4. What is logging in Python?\n",
    "Ans->Logging is a way to track events that happen when software runs. It helps with debugging and monitoring by recording messages with different severity levels."
   ]
  },
  {
   "cell_type": "markdown",
   "id": "c3027367-eef9-4728-a8e8-20334b8002e3",
   "metadata": {},
   "source": [
    "5. What is the significance of the __del__ method in Python?\n",
    "Ans->The __del__ method is a destructor that is called when an object is about to be destroyed. It is used to clean up resources like open files or network connections."
   ]
  },
  {
   "cell_type": "markdown",
   "id": "3721afec-8bc4-447f-ac45-b8348aa3ecf2",
   "metadata": {},
   "source": [
    "6. What is the difference between import and from ... import in Python?\n",
    "Ans->import module imports the entire module.\n",
    "from module import item imports only specific items (e.g., functions or classes) from the module."
   ]
  },
  {
   "cell_type": "markdown",
   "id": "4f7277e4-da7a-4e43-82b2-93abcc7ba522",
   "metadata": {},
   "source": [
    "7. How can you handle multiple exceptions in Python?\n",
    "Ans->Multiple exceptions can be handled by chaining except blocks or grouping them in one block."
   ]
  },
  {
   "cell_type": "markdown",
   "id": "10aed222-cf93-47ec-a642-8aef2bd98d84",
   "metadata": {},
   "source": [
    "8. What is the purpose of the with statement when handling files in Python?\n",
    "Ans->The with statement ensures that a file is properly opened and automatically closed after the block is executed, even if an exception occurs."
   ]
  },
  {
   "cell_type": "markdown",
   "id": "6300d63c-8c65-4998-a82e-f683eee34180",
   "metadata": {},
   "source": [
    "9. What is the difference between multithreading and multiprocessing?\n",
    "Ans->Multithreading: Multiple threads share the same memory space. Best for I/O-bound tasks.\n",
    "Multiprocessing: Multiple processes with separate memory. Best for CPU-bound tasks."
   ]
  },
  {
   "cell_type": "markdown",
   "id": "71b96d7a-f975-4698-8853-0e9262cf4c69",
   "metadata": {},
   "source": [
    "10. What are the advantages of using logging in a program?\n",
    "Ans->Helps in debugging,Provides a record of program execution,Captures errors and warnings,Useful in production environments."
   ]
  },
  {
   "cell_type": "markdown",
   "id": "a10c02af-6629-4b52-b015-3729f093f2f5",
   "metadata": {},
   "source": [
    "11. What is memory management in Python?\n",
    "Ans->Memory management in Python involves automatic allocation and deallocation of memory using techniques like reference counting and garbage collection."
   ]
  },
  {
   "cell_type": "markdown",
   "id": "31c6e31a-9801-44d3-a212-1a09aebd4add",
   "metadata": {},
   "source": [
    "12. What are the basic steps involved in exception handling in Python?\n",
    "Ans->1.Code that might raise an error goes in the try block\n",
    "\n",
    "     2.Errors are caught in the except block\n",
    "\n",
    "     3.Optional else block runs if no exception occurs\n",
    "\n",
    "     4.Optional finally block always runs"
   ]
  },
  {
   "cell_type": "markdown",
   "id": "52c92b47-5ecb-4582-b1d6-62cad4bb3d58",
   "metadata": {},
   "source": [
    "13. Why is memory management important in Python?\n",
    "Ans->It ensures efficient memory use, prevents memory leaks, and improves program performance and stability."
   ]
  },
  {
   "cell_type": "markdown",
   "id": "5eeefd5e-ad72-425e-a593-85515185ee48",
   "metadata": {},
   "source": [
    "14. What is the role of try and except in exception handling?\n",
    "Ans->\n",
    "try: Contains code that may raise an exception\n",
    "\n",
    "     except: Catches and handles the exception if it occurs."
   ]
  },
  {
   "cell_type": "markdown",
   "id": "6f59780d-9302-4ef6-adda-64ccaabfdcc2",
   "metadata": {},
   "source": [
    "15. How does Python's garbage collection system work?\n",
    "Ans->Python uses reference counting and a cyclic garbage collector to automatically delete objects that are no longer in use."
   ]
  },
  {
   "cell_type": "markdown",
   "id": "f8044ea0-ce36-472b-a227-477938715b16",
   "metadata": {},
   "source": [
    "16. What is the purpose of the else block in exception handling?\n",
    "Ans->The else block runs if no exception occurs in the try block. It is useful for code that should only run when there is no error."
   ]
  },
  {
   "cell_type": "markdown",
   "id": "8eb0b5e2-cc45-4b29-8c77-1e9bca7c32f3",
   "metadata": {},
   "source": [
    "17. What are the common logging levels in Python?\n",
    "Ans->\n",
    "DEBUG: Detailed information\n",
    "\n",
    "INFO: General information\n",
    "\n",
    "WARNING: Something unexpected\n",
    "\n",
    "ERROR: Serious problems\n",
    "\n",
    "CRITICAL: Severe errors"
   ]
  },
  {
   "cell_type": "markdown",
   "id": "83d56464-9e0f-48d3-bb14-2cb5b98be7d2",
   "metadata": {},
   "source": [
    "18. What is the difference between os.fork() and multiprocessing in Python?\n",
    "Ans->\n",
    "os.fork() is Unix-specific and creates a child process by duplicating the current process.\n",
    "\n",
    "multiprocessing is a cross-platform module for running multiple processes with better control and ease."
   ]
  },
  {
   "cell_type": "markdown",
   "id": "d6084e9c-0d8e-4145-b4c0-f79893ad62fe",
   "metadata": {},
   "source": [
    "19. What is the importance of closing a file in Python?\n",
    "Ans->Closing a file frees system resources, ensures data is written properly to the disk, and avoids potential data corruption."
   ]
  },
  {
   "cell_type": "markdown",
   "id": "18871a48-d3e6-461f-bc13-0ebf82324034",
   "metadata": {},
   "source": [
    "20. What is the difference between file.read() and file.readline() in Python?\n",
    "Ans->\n",
    "read(): Reads the entire content of the file\n",
    "\n",
    "readline(): Reads only a single line from the file"
   ]
  },
  {
   "cell_type": "markdown",
   "id": "64368eeb-0b7d-443f-9ec3-5f9584f3e9e0",
   "metadata": {},
   "source": [
    "21. What is the logging module in Python used for?\n",
    "Ans->The logging module is used to report messages (errors, warnings, info) from programs and helps track the flow and issues."
   ]
  },
  {
   "cell_type": "markdown",
   "id": "f974ce4c-cdab-40dc-aeb1-c898f32324a7",
   "metadata": {},
   "source": [
    "22. What is the os module in Python used for in file handling?\n",
    "Ans->The os module helps interact with the operating system, such as creating, deleting, renaming files, and navigating the directory structure."
   ]
  },
  {
   "cell_type": "markdown",
   "id": "481343f6-a564-4e01-9aee-24d88bc3b8fa",
   "metadata": {},
   "source": [
    "23.What are the challenges associated with memory management in Python?\n",
    "Ans->\n",
    "Handling circular references\n",
    "\n",
    "Managing memory in long-running applications\n",
    "\n",
    "Memory leaks due to lingering references\n",
    "\n",
    "High memory usage from large data structures"
   ]
  },
  {
   "cell_type": "markdown",
   "id": "85145661-7b07-4bff-a105-18578b4a2b24",
   "metadata": {},
   "source": [
    "24. How do you raise an exception manually in Python?\n",
    "Ans->Use the raise keyword followed by an exception type:\n",
    "raise ValueError(\"Invalid input\")"
   ]
  },
  {
   "cell_type": "markdown",
   "id": "b4bf1b75-08b1-4bed-8660-06523ddddb65",
   "metadata": {},
   "source": [
    "25. Why is it important to use multithreading in certain applications?\n",
    "Ans->\n",
    "Multithreading allows simultaneous execution of tasks, improves responsiveness in I/O-bound applications, and makes better use of system resources."
   ]
  },
  {
   "cell_type": "markdown",
   "id": "a6253f9c-b0f7-4fd9-afba-e7acc4fe51c2",
   "metadata": {},
   "source": [
    "PRACTICAL QUESTIONS:"
   ]
  },
  {
   "cell_type": "code",
   "execution_count": 1,
   "id": "aae05909-b9df-4a4f-9eba-8e34f7d17370",
   "metadata": {},
   "outputs": [],
   "source": [
    "#1. How can you open a file for writing in Python and write a string to it?\n",
    "with open(\"messi.txt\", \"w\") as file:\n",
    "    file.write(\"Hello, world!\")"
   ]
  },
  {
   "cell_type": "code",
   "execution_count": 2,
   "id": "9a37f10c-c170-4344-b0a8-a59988a9b390",
   "metadata": {},
   "outputs": [
    {
     "name": "stdout",
     "output_type": "stream",
     "text": [
      "Hello, world!\n"
     ]
    }
   ],
   "source": [
    "#2. Write a Python program to read the contents of a file and print each line.\n",
    "with open(\"messi.txt\", \"r\") as file:\n",
    "    for line in file:\n",
    "        print(line.strip())"
   ]
  },
  {
   "cell_type": "code",
   "execution_count": 3,
   "id": "b59e1167-e6f1-4899-9670-8beed062e8ba",
   "metadata": {},
   "outputs": [],
   "source": [
    "#3.How would you handle a case where the file doesn't exist while trying to open it for reading?\n",
    "try:\n",
    "    with open(\"messi.txt\", \"r\") as file:\n",
    "        content = file.read()\n",
    "except FileNotFoundError:\n",
    "    print(\"File not found!\")\n"
   ]
  },
  {
   "cell_type": "code",
   "execution_count": 4,
   "id": "d3211402-8618-494a-82b1-cf0bb0e61ee4",
   "metadata": {},
   "outputs": [],
   "source": [
    "#4.Write a Python script that reads from one file and writes its content to another file.\n",
    "with open(\"messi.txt\", \"r\") as source, open(\"messi_copy.txt\", \"w\") as dest:\n",
    "    for line in source:\n",
    "        dest.write(line)"
   ]
  },
  {
   "cell_type": "code",
   "execution_count": 5,
   "id": "619261e2-931b-466c-b996-2fe59c93bed3",
   "metadata": {},
   "outputs": [
    {
     "name": "stdout",
     "output_type": "stream",
     "text": [
      "Cannot divide by zero.\n"
     ]
    }
   ],
   "source": [
    "#5. How would you catch and handle division by zero error in Python?\n",
    "try:\n",
    "    result = 10 / 0\n",
    "except ZeroDivisionError:\n",
    "    print(\"Cannot divide by zero.\")"
   ]
  },
  {
   "cell_type": "code",
   "execution_count": 6,
   "id": "b8cebd11-4800-4914-8341-5f98a2e3886c",
   "metadata": {},
   "outputs": [],
   "source": [
    "#6. Write a Python program that logs an error message to a log file when a division by zero exception occurs.\n",
    "import logging\n",
    "logging.basicConfig(filename='messi.log', level=logging.ERROR)\n",
    "\n",
    "try:\n",
    "    result = 10 / 0\n",
    "except ZeroDivisionError as e:\n",
    "    logging.error(f\"Error occurred: {e}\")"
   ]
  },
  {
   "cell_type": "code",
   "execution_count": 7,
   "id": "68fe9569-51b6-4894-bb9b-e2d3832de0fb",
   "metadata": {},
   "outputs": [],
   "source": [
    "#7. How do you log information at different levels (INFO, ERROR, WARNING) in Python using the logging module?\n",
    "import logging\n",
    "logging.basicConfig(level=logging.DEBUG)\n",
    "\n",
    "logging.info(\"This is an info message\")\n",
    "logging.warning(\"This is a warning message\")\n",
    "logging.error(\"This is an error message\")"
   ]
  },
  {
   "cell_type": "code",
   "execution_count": 8,
   "id": "26da67b0-5250-45c1-8a54-ab0296a50d41",
   "metadata": {},
   "outputs": [
    {
     "name": "stdout",
     "output_type": "stream",
     "text": [
      "Hello, world!\n"
     ]
    }
   ],
   "source": [
    "#8. Write a program to handle a file opening error using exception handling.\n",
    "try:\n",
    "    with open(\"messi.txt\", \"r\") as file:\n",
    "        print(file.read())\n",
    "except FileNotFoundError:\n",
    "    print(\"File could not be opened.\")"
   ]
  },
  {
   "cell_type": "code",
   "execution_count": 9,
   "id": "27f8efae-ce89-4e05-ba20-6aecc75c2831",
   "metadata": {},
   "outputs": [],
   "source": [
    "#9. How can you read a file line by line and store its content in a list in Python?\n",
    "with open(\"messi.txt\", \"r\") as file:\n",
    "    lines = file.readlines()"
   ]
  },
  {
   "cell_type": "code",
   "execution_count": 11,
   "id": "6863db04-720c-4386-aab1-ee7e8872eb8a",
   "metadata": {},
   "outputs": [],
   "source": [
    "#10. How can you append data to an existing file in Python?\n",
    "with open(\"messi.txt\", \"a\") as file:\n",
    "    file.write(\"Appended line.\\n\")"
   ]
  },
  {
   "cell_type": "code",
   "execution_count": 12,
   "id": "b61ae278-5a8b-4f1a-a248-59090f23b820",
   "metadata": {},
   "outputs": [
    {
     "name": "stdout",
     "output_type": "stream",
     "text": [
      "Key not found in dictionary.\n"
     ]
    }
   ],
   "source": [
    "#11. Write a Python program that uses a try-except block to handle an error when attempting to access a dictionary key that doesn't exist.\n",
    "my_dict = {\"name\": \"Messi\"}\n",
    "try:\n",
    "    print(my_dict[\"age\"])\n",
    "except KeyError:\n",
    "    print(\"Key not found in dictionary.\")"
   ]
  },
  {
   "cell_type": "code",
   "execution_count": 13,
   "id": "88a5b63e-4905-4674-bfaa-36edd8368648",
   "metadata": {},
   "outputs": [
    {
     "name": "stdout",
     "output_type": "stream",
     "text": [
      "ValueError occurred.\n"
     ]
    }
   ],
   "source": [
    "#12. Write a program that demonstrates using multiple except blocks to handle different types of exceptions.\n",
    "try:\n",
    "    x = int(\"abc\")\n",
    "    y = 10 / 0\n",
    "except ValueError:\n",
    "    print(\"ValueError occurred.\")\n",
    "except ZeroDivisionError:\n",
    "    print(\"ZeroDivisionError occurred.\")"
   ]
  },
  {
   "cell_type": "code",
   "execution_count": 14,
   "id": "40b3a250-2111-4370-9455-3eed160ad2bd",
   "metadata": {},
   "outputs": [
    {
     "name": "stdout",
     "output_type": "stream",
     "text": [
      "Hello, world!Appended line.\n",
      "Appended line.\n",
      "\n"
     ]
    }
   ],
   "source": [
    "#13. How would you check if a file exists before attempting to read it in Python?\n",
    "import os\n",
    "if os.path.exists(\"messi.txt\"):\n",
    "    with open(\"messi.txt\", \"r\") as file:\n",
    "        print(file.read())\n",
    "else:\n",
    "    print(\"File does not exist.\")"
   ]
  },
  {
   "cell_type": "code",
   "execution_count": 15,
   "id": "ec98f0e7-7d55-4c87-a3ad-87a5c0bfa6fc",
   "metadata": {},
   "outputs": [],
   "source": [
    "#14. Write a program that uses the logging module to log both informational and error messages.\n",
    "import logging\n",
    "logging.basicConfig(filename='messi.log', level=logging.DEBUG)\n",
    "\n",
    "logging.info(\"Program started.\")\n",
    "try:\n",
    "    result = 10 / 0\n",
    "except ZeroDivisionError as e:\n",
    "    logging.error(f\"Error: {e}\")"
   ]
  },
  {
   "cell_type": "code",
   "execution_count": 16,
   "id": "8be4fb3d-c621-4827-959e-d1f52de45346",
   "metadata": {},
   "outputs": [
    {
     "name": "stdout",
     "output_type": "stream",
     "text": [
      "Hello, world!Appended line.\n",
      "Appended line.\n",
      "\n"
     ]
    }
   ],
   "source": [
    "#15. Write a Python program that prints the content of a file and handles the case when the file is empty.\n",
    "with open(\"messi.txt\", \"r\") as file:\n",
    "    content = file.read()\n",
    "    if content:\n",
    "        print(content)\n",
    "    else:\n",
    "        print(\"File is empty.\")"
   ]
  },
  {
   "cell_type": "code",
   "execution_count": 17,
   "id": "de1830c2-2bd0-4465-9d85-a8f695b0431c",
   "metadata": {},
   "outputs": [
    {
     "ename": "ModuleNotFoundError",
     "evalue": "No module named 'memory_profiler'",
     "output_type": "error",
     "traceback": [
      "\u001b[31m---------------------------------------------------------------------------\u001b[39m",
      "\u001b[31mModuleNotFoundError\u001b[39m                       Traceback (most recent call last)",
      "\u001b[36mCell\u001b[39m\u001b[36m \u001b[39m\u001b[32mIn[17]\u001b[39m\u001b[32m, line 2\u001b[39m\n\u001b[32m      1\u001b[39m \u001b[38;5;66;03m#16. Demonstrate how to use memory profiling to check the memory usage of a small program.\u001b[39;00m\n\u001b[32m----> \u001b[39m\u001b[32m2\u001b[39m \u001b[38;5;28;01mfrom\u001b[39;00m\u001b[38;5;250m \u001b[39m\u001b[34;01mmemory_profiler\u001b[39;00m\u001b[38;5;250m \u001b[39m\u001b[38;5;28;01mimport\u001b[39;00m profile\n\u001b[32m      4\u001b[39m \u001b[38;5;129m@profile\u001b[39m\n\u001b[32m      5\u001b[39m \u001b[38;5;28;01mdef\u001b[39;00m\u001b[38;5;250m \u001b[39m\u001b[34mtest\u001b[39m():\n\u001b[32m      6\u001b[39m     a = [i \u001b[38;5;28;01mfor\u001b[39;00m i \u001b[38;5;129;01min\u001b[39;00m \u001b[38;5;28mrange\u001b[39m(\u001b[32m10000\u001b[39m)]\n",
      "\u001b[31mModuleNotFoundError\u001b[39m: No module named 'memory_profiler'"
     ]
    }
   ],
   "source": [
    "#16. Demonstrate how to use memory profiling to check the memory usage of a small program.\n",
    "from memory_profiler import profile\n",
    "\n",
    "@profile\n",
    "def test():\n",
    "    a = [i for i in range(10000)]\n",
    "    return a\n",
    "\n",
    "test()"
   ]
  },
  {
   "cell_type": "code",
   "execution_count": 18,
   "id": "5da14263-1bfe-4a2c-8015-3e1d8a4a5d52",
   "metadata": {},
   "outputs": [],
   "source": [
    "#17. Write a Python program to create and write a list of numbers to a file, one number per line.\n",
    "numbers = [1, 2, 3, 4, 5]\n",
    "with open(\"messi.txt\", \"w\") as file:\n",
    "    for num in numbers:\n",
    "        file.write(f\"{num}\\n\")"
   ]
  },
  {
   "cell_type": "code",
   "execution_count": 19,
   "id": "84ce96cb-c50b-4d69-bd98-38b7014c76ef",
   "metadata": {},
   "outputs": [],
   "source": [
    "#18. How would you implement a basic logging setup that logs to a file with rotation after 1MB?\n",
    "import logging\n",
    "from logging.handlers import RotatingFileHandler\n",
    "\n",
    "logger = logging.getLogger(\"my_logger\")\n",
    "logger.setLevel(logging.INFO)\n",
    "handler = RotatingFileHandler(\"messi.log\", maxBytes=1024*1024, backupCount=3)\n",
    "logger.addHandler(handler)\n",
    "\n",
    "logger.info(\"Logging with rotation setup.\")"
   ]
  },
  {
   "cell_type": "code",
   "execution_count": 20,
   "id": "5d292c8b-746c-43e5-98c3-450ead317caf",
   "metadata": {},
   "outputs": [
    {
     "name": "stdout",
     "output_type": "stream",
     "text": [
      "IndexError occurred.\n"
     ]
    }
   ],
   "source": [
    "#19. Write a program that handles both IndexError and KeyError using a try-except block.\n",
    "try:\n",
    "    my_list = [1, 2]\n",
    "    print(my_list[5])\n",
    "    my_dict = {}\n",
    "    print(my_dict[\"missing\"])\n",
    "except IndexError:\n",
    "    print(\"IndexError occurred.\")\n",
    "except KeyError:\n",
    "    print(\"KeyError occurred.\")"
   ]
  },
  {
   "cell_type": "code",
   "execution_count": 21,
   "id": "f7f2902f-021d-4c24-84e9-e02d260c5835",
   "metadata": {},
   "outputs": [
    {
     "name": "stdout",
     "output_type": "stream",
     "text": [
      "1\n",
      "2\n",
      "3\n",
      "4\n",
      "5\n",
      "\n"
     ]
    }
   ],
   "source": [
    "#20. How would you open a file and read its contents using a context manager in Python?\n",
    "with open(\"messi.txt\", \"r\") as file:\n",
    "    content = file.read()\n",
    "    print(content)"
   ]
  },
  {
   "cell_type": "code",
   "execution_count": 26,
   "id": "4a717982-49f5-4759-85cf-8d85900cc99f",
   "metadata": {},
   "outputs": [
    {
     "name": "stdout",
     "output_type": "stream",
     "text": [
      "'messi' occurred 0 times.\n"
     ]
    }
   ],
   "source": [
    "#21. Write a Python program that reads a file and prints the number of occurrences of a specific word.\n",
    "word_to_count = \"messi\"\n",
    "count = 0\n",
    "\n",
    "with open(\"messi.txt\", \"r\") as file:\n",
    "    for line in file:\n",
    "        count += line.lower().count(word_to_count.lower())\n",
    "\n",
    "print(f\"'{word_to_count}' occurred {count} times.\")"
   ]
  },
  {
   "cell_type": "code",
   "execution_count": 27,
   "id": "a69cef1f-b1bf-4cb5-b560-6d58f940340c",
   "metadata": {},
   "outputs": [
    {
     "name": "stdout",
     "output_type": "stream",
     "text": [
      "1\n",
      "2\n",
      "3\n",
      "4\n",
      "5\n",
      "\n"
     ]
    }
   ],
   "source": [
    "#22. How can you check if a file is empty before attempting to read its contents?\n",
    "import os\n",
    "\n",
    "if os.path.getsize(\"messi.txt\") == 0:\n",
    "    print(\"File is empty.\")\n",
    "else:\n",
    "    with open(\"messi.txt\", \"r\") as file:\n",
    "        print(file.read())"
   ]
  },
  {
   "cell_type": "code",
   "execution_count": 29,
   "id": "8ab6c27a-1b21-4be6-9cba-eb9440c9ab4e",
   "metadata": {},
   "outputs": [],
   "source": [
    "#23. Write a Python program that writes to a log file when an error occurs during file handling.\n",
    "import logging\n",
    "\n",
    "logging.basicConfig(filename=\"messi.log\", level=logging.ERROR)\n",
    "\n",
    "try:\n",
    "    with open(\"messi.txt\", \"r\") as file:\n",
    "        data = file.read()\n",
    "except FileNotFoundError as e:\n",
    "    logging.error(f\"File error: {e}\")"
   ]
  },
  {
   "cell_type": "code",
   "execution_count": null,
   "id": "90b1617c-ff4b-49ef-a26f-f51b828fd9c8",
   "metadata": {},
   "outputs": [],
   "source": []
  }
 ],
 "metadata": {
  "kernelspec": {
   "display_name": "Python 3 (ipykernel)",
   "language": "python",
   "name": "python3"
  },
  "language_info": {
   "codemirror_mode": {
    "name": "ipython",
    "version": 3
   },
   "file_extension": ".py",
   "mimetype": "text/x-python",
   "name": "python",
   "nbconvert_exporter": "python",
   "pygments_lexer": "ipython3",
   "version": "3.13.3"
  }
 },
 "nbformat": 4,
 "nbformat_minor": 5
}
